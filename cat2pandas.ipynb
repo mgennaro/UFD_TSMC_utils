{
 "cells": [
  {
   "cell_type": "markdown",
   "metadata": {},
   "source": [
    "Author: Mario Gennaro\n",
    "\n",
    "\"\"\"\n",
    "This notebook reads the catalogs for the UFDs (F606W, F814W)\n",
    "and stores them as pandas dataframes using pickle\n",
    "\"\"\""
   ]
  },
  {
   "cell_type": "code",
   "execution_count": 5,
   "metadata": {
    "collapsed": true
   },
   "outputs": [],
   "source": [
    "import pandas as pd\n",
    "import pickle\n",
    "import numpy as np"
   ]
  },
  {
   "cell_type": "code",
   "execution_count": 6,
   "metadata": {
    "collapsed": true
   },
   "outputs": [],
   "source": [
    "#Setup: give the name of the UFD of interest\n",
    "UFD = 'herc'\n",
    "path = '/user/gennaro/UFDs_OPT/'"
   ]
  },
  {
   "cell_type": "code",
   "execution_count": 9,
   "metadata": {
    "collapsed": true
   },
   "outputs": [],
   "source": [
    "f2r = path+UFD+'/'+UFD+'.cat'\n",
    "\n",
    "cat = pd.read_table(f2r,header=None,sep='\\s+',\n",
    "                   names=['x','y','F606W','err_F606W','F814W','err_F814W'])"
   ]
  },
  {
   "cell_type": "code",
   "execution_count": 10,
   "metadata": {
    "collapsed": false
   },
   "outputs": [],
   "source": [
    "pickle.dump(cat , open( '/user/gennaro/UFDs_OPT/shelves/cat_'+UFD+'.pickle', \"wb\" ) )        "
   ]
  }
 ],
 "metadata": {
  "kernelspec": {
   "display_name": "Python 3",
   "language": "python",
   "name": "python3"
  },
  "language_info": {
   "codemirror_mode": {
    "name": "ipython",
    "version": 3
   },
   "file_extension": ".py",
   "mimetype": "text/x-python",
   "name": "python",
   "nbconvert_exporter": "python",
   "pygments_lexer": "ipython3",
   "version": "3.5.1"
  }
 },
 "nbformat": 4,
 "nbformat_minor": 0
}
