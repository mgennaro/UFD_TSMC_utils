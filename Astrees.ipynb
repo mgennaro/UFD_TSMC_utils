{
 "cells": [
  {
   "cell_type": "markdown",
   "metadata": {},
   "source": [
    "Author: Mario Gennaro\n",
    "\n",
    "\"\"\" This notebook reads the artificial star catalog for a UFD and stores it as  a scipy KDEtree object using pickle\"\"\"\""
   ]
  },
  {
   "cell_type": "code",
   "execution_count": 1,
   "metadata": {
    "collapsed": false
   },
   "outputs": [],
   "source": [
    "from sklearn.neighbors import KDTree\n",
    "import numpy as np\n",
    "import pickle\n",
    "import pandas as pd\n",
    "from synCMD.auxfunc.photband import photband\n",
    "import time\n",
    "from sys import getsizeof"
   ]
  },
  {
   "cell_type": "code",
   "execution_count": 2,
   "metadata": {
    "collapsed": true
   },
   "outputs": [],
   "source": [
    "#Setup: give the name of the UFD of interest\n",
    "UFD = 'herc'\n",
    "path = '/user/gennaro/UFDs_OPT/'"
   ]
  },
  {
   "cell_type": "code",
   "execution_count": 3,
   "metadata": {
    "collapsed": true
   },
   "outputs": [],
   "source": [
    "f2r = path+UFD+'/'+UFD+'.art'\n",
    "\n",
    "dfAS = pd.read_table(f2r,header=None,sep='\\s+',\n",
    "                   names=['F606W_in','F606W_out','F814W_in','F814W_out'])"
   ]
  },
  {
   "cell_type": "code",
   "execution_count": 4,
   "metadata": {
    "collapsed": false
   },
   "outputs": [],
   "source": [
    "# Bands to use\n",
    "\n",
    "photbands = []  #List of photband objects\n",
    "\n",
    "pb1 = photband()\n",
    "pb1.name = 'F606W'\n",
    "pb1.lowcut = 90.\n",
    "\n",
    "photbands.append(pb1)\n",
    "\n",
    "pb1 = photband()\n",
    "pb1.name = 'F814W'\n",
    "pb1.lowcut  = 90.\n",
    "\n",
    "photbands.append(pb1)"
   ]
  },
  {
   "cell_type": "code",
   "execution_count": 5,
   "metadata": {
    "collapsed": false
   },
   "outputs": [
    {
     "name": "stdout",
     "output_type": "stream",
     "text": [
      "50.945705000000004\n"
     ]
    }
   ],
   "source": [
    "#Create the KD-Tree \n",
    "t = time.process_time()\n",
    "magAS_IN = np.asarray([dfAS[pb.name+'_in'] for pb in photbands]).T\n",
    "magAS_OUT = np.asarray([dfAS[pb.name+'_out'] for pb in photbands]).T\n",
    "AStree = KDTree(magAS_IN,leaf_size=16)\n",
    "elapsed_time = time.process_time() - t\n",
    "print(elapsed_time)"
   ]
  },
  {
   "cell_type": "code",
   "execution_count": 6,
   "metadata": {
    "collapsed": false
   },
   "outputs": [],
   "source": [
    "#Save the KD-Tree\n",
    "pickle.dump( AStree, open( '/user/gennaro/UFDs_OPT/shelves/AS_'+UFD+'.pickle', \"wb\" ) )        "
   ]
  },
  {
   "cell_type": "code",
   "execution_count": null,
   "metadata": {
    "collapsed": true
   },
   "outputs": [],
   "source": []
  }
 ],
 "metadata": {
  "kernelspec": {
   "display_name": "Python 3",
   "language": "python",
   "name": "python3"
  },
  "language_info": {
   "codemirror_mode": {
    "name": "ipython",
    "version": 3
   },
   "file_extension": ".py",
   "mimetype": "text/x-python",
   "name": "python",
   "nbconvert_exporter": "python",
   "pygments_lexer": "ipython3",
   "version": "3.5.1"
  }
 },
 "nbformat": 4,
 "nbformat_minor": 0
}
