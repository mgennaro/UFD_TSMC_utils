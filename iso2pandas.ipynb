{
 "cells": [
  {
   "cell_type": "markdown",
   "metadata": {},
   "source": [
    "Author: Mario Gennaro\n",
    "\n",
    "\"\"\"\n",
    "This notebook reads the Oxigen-enhanced VanDenberg isochrones\n",
    "computed by Tom Brown for his 2014 paper on UFDs (F606W, F814W)\n",
    "and stores the whole grid as a pandas dataframe using shelve.\n",
    "It also computes and stores scipy interpolators for the same database\n",
    "\"\"\""
   ]
  },
  {
   "cell_type": "code",
   "execution_count": null,
   "metadata": {
    "collapsed": true
   },
   "outputs": [],
   "source": [
    "import pandas as pd\n",
    "import shelve\n",
    "import glob\n",
    "import re\n",
    "import numpy as np\n",
    "import pickle\n",
    "from synCMD.auxfunc.photband import photband\n",
    "from scipy.interpolate import interp1d\n",
    "from scipy.interpolate import LinearNDInterpolator\n",
    "from TSMC_utils.intNN import intNN"
   ]
  },
  {
   "cell_type": "code",
   "execution_count": null,
   "metadata": {
    "collapsed": false
   },
   "outputs": [],
   "source": [
    "# List all the iscrone files in the directory,\n",
    "# read them and put them in a pandas dataframe\n",
    "# in case of trouble check this:\n",
    "# http://stackoverflow.com/questions/13226029/benefits-of-pandas-multiindex\n",
    "\n",
    "\n",
    "flist = glob.glob('/user/gennaro/UFDs_OPT/isocrones/f*')\n",
    "dfACSiso = pd.DataFrame()\n",
    "\n",
    "for file in flist:\n",
    "    metchar = (re.search('fm(.+?)a',file)).group(1)\n",
    "    agechar = (re.search(metchar+'a(.+?)\\.iso',file)).group(1)\n",
    "    met = -1.*np.asarray(metchar,dtype=float)/100.\n",
    "    age = np.asarray(agechar,dtype=float)/100.\n",
    "\n",
    "    if age == 11:\n",
    "        print('Metallicity: ',met)\n",
    "    \n",
    "    num_lines = sum(1 for line in open(file))\n",
    "    df1 = pd.read_table(file,header=None,sep='\\s+',\n",
    "          names=['mass','logT','logL','logg','F606W','F814W'],index_col=['mass'])\n",
    "    arrays = [np.repeat(met,num_lines),np.repeat(age,num_lines),df1.index]\n",
    "    ind = pd.MultiIndex.from_tuples(list(zip(*arrays)),names=['[Fe/H]', 'age','mass'])\n",
    "    df1.index = ind\n",
    "    \n",
    "    dfACSiso = dfACSiso.append(df1)"
   ]
  },
  {
   "cell_type": "code",
   "execution_count": null,
   "metadata": {
    "collapsed": false
   },
   "outputs": [],
   "source": [
    "# Bands to use\n",
    "\n",
    "photbands = []  #List of photband objects\n",
    "\n",
    "pb1 = photband()\n",
    "pb1.name = 'F606W'\n",
    "pb1.lowcut = 90.\n",
    "\n",
    "photbands.append(pb1)\n",
    "\n",
    "pb1 = photband()\n",
    "pb1.name = 'F814W'\n",
    "pb1.lowcut  = 90.\n",
    "\n",
    "photbands.append(pb1)"
   ]
  },
  {
   "cell_type": "code",
   "execution_count": null,
   "metadata": {
    "collapsed": false
   },
   "outputs": [],
   "source": [
    "# Get the available values of age and metallicity\n",
    "\n",
    "age_vals = np.unique(np.asarray([dfACSiso.index.get_level_values('age')]).T)\n",
    "feh_vals = np.unique(np.asarray([dfACSiso.index.get_level_values('[Fe/H]')]).T)"
   ]
  },
  {
   "cell_type": "code",
   "execution_count": null,
   "metadata": {
    "collapsed": false
   },
   "outputs": [],
   "source": [
    "# Create alist of interpolators (age X mets x bands)\n",
    "# these can be used for NN interpolation in age and met (i.e. find the closest isochrone in age and met)\n",
    "# and linear interpolation in mass\n",
    "\n",
    "iso_intp = [[0 for x in range(len(feh_vals))] for y in range(len(age_vals))]\n",
    "iso_mrng = [[0 for x in range(len(feh_vals))] for y in range(len(age_vals))]\n",
    "\n",
    "for aa, age in enumerate(age_vals):\n",
    "    print(\"Doing age\",age)\n",
    "    for zz, met in enumerate(feh_vals):\n",
    "        isomass = np.asarray(dfACSiso.ix[met].ix[age].index.get_level_values('mass'))\n",
    "        iso_mrng[aa][zz] = ([np.amin(isomass),np.amax(isomass)])\n",
    "        iso1 = []\n",
    "        for pb in photbands:\n",
    "            isomag = np.asarray(dfACSiso.ix[met].ix[age][pb.name])\n",
    "            iso1.append(interp1d(isomass, isomag, kind='linear', assume_sorted=True))\n",
    "        iso_intp[aa][zz] = iso1"
   ]
  },
  {
   "cell_type": "code",
   "execution_count": null,
   "metadata": {
    "collapsed": false
   },
   "outputs": [],
   "source": [
    "# Create an ND linear interpolator (mass,age,metallicity)\n",
    "\n",
    "points = np.asarray([dfACSiso.index.get_level_values(2),\n",
    "                     dfACSiso.index.get_level_values(1),\n",
    "                     dfACSiso.index.get_level_values(0)]).T\n",
    "\n",
    "iso_LNDInt = []\n",
    "for pb in photbands:\n",
    "    print(\"Doing ND linear interpolator for band\",pb.name)\n",
    "    iso_LNDInt.append(LinearNDInterpolator(points,dfACSiso[pb.name], fill_value=np.nan, rescale=True))\n"
   ]
  },
  {
   "cell_type": "code",
   "execution_count": null,
   "metadata": {
    "collapsed": false
   },
   "outputs": [],
   "source": [
    "# Create a NN (age,metallicity) + linear interpolator (mass)\n",
    "print(\"Doing NN linear interpolator\")\n",
    "\n",
    "iso_NNInt =[]\n",
    "for photband in photbands:\n",
    "    iso_NNInt.append(intNN(dfACSiso,photband))"
   ]
  },
  {
   "cell_type": "code",
   "execution_count": null,
   "metadata": {
    "collapsed": false
   },
   "outputs": [],
   "source": [
    "#Now save the dataframe and the interpolators in a shelf\n",
    "\n",
    "isopd      = {'dfACSiso':dfACSiso,\n",
    "              'age_vals':age_vals,\n",
    "              'feh_vals':feh_vals}\n",
    "\n",
    "pickle.dump(isopd, open( '/user/gennaro/UFDs_OPT/shelves/isoACS.pickle', \"wb\" ) )   \n",
    "\n",
    "isoNN_v0 = {'iso_intp':iso_intp,\n",
    "            'iso_mrng':iso_mrng}\n",
    "\n",
    "pickle.dump(isoNN_v0 , open( '/user/gennaro/UFDs_OPT/shelves/isoNN_v0.pickle', \"wb\" ) )\n",
    " "
   ]
  },
  {
   "cell_type": "code",
   "execution_count": null,
   "metadata": {
    "collapsed": false
   },
   "outputs": [],
   "source": [
    "pickle.dump(iso_LNDInt , open( '/user/gennaro/UFDs_OPT/shelves/iso_LNDint.pickle', \"wb\" ) )        "
   ]
  },
  {
   "cell_type": "code",
   "execution_count": null,
   "metadata": {
    "collapsed": true
   },
   "outputs": [],
   "source": [
    "pickle.dump(iso_NNInt , open( '/user/gennaro/UFDs_OPT/shelves/iso_NNint.pickle', \"wb\" ) )"
   ]
  },
  {
   "cell_type": "code",
   "execution_count": null,
   "metadata": {
    "collapsed": true
   },
   "outputs": [],
   "source": []
  }
 ],
 "metadata": {
  "kernelspec": {
   "display_name": "Python 3",
   "language": "python",
   "name": "python3"
  },
  "language_info": {
   "codemirror_mode": {
    "name": "ipython",
    "version": 3
   },
   "file_extension": ".py",
   "mimetype": "text/x-python",
   "name": "python",
   "nbconvert_exporter": "python",
   "pygments_lexer": "ipython3",
   "version": "3.5.1"
  }
 },
 "nbformat": 4,
 "nbformat_minor": 0
}
